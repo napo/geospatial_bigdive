{
  "nbformat": 4,
  "nbformat_minor": 0,
  "metadata": {
    "kernelspec": {
      "display_name": "Python 3",
      "language": "python",
      "name": "python3"
    },
    "language_info": {
      "codemirror_mode": {
        "name": "ipython",
        "version": 3
      },
      "file_extension": ".py",
      "mimetype": "text/x-python",
      "name": "python",
      "nbconvert_exporter": "python",
      "pygments_lexer": "ipython3",
      "version": "3.7.3"
    },
    "colab": {
      "name": "05 - Clustering #bigdive.ipynb",
      "provenance": []
    }
  },
  "cells": [
    {
      "cell_type": "markdown",
      "metadata": {
        "id": "0S5AWYIRV3bk",
        "colab_type": "text"
      },
      "source": [
        "# Clustering\n",
        "based on scipy2018-geospatial\n",
        "\n",
        "\n",
        "## goals of the tutorial\n",
        "- cluster of point\n",
        "- cluster of polygons\n",
        "\n",
        "\n",
        "### requirements\n",
        "- python knowledge\n",
        "- geopandas\n",
        "\n",
        "### status \n",
        "*\"Teamwork divides the tasks and multiplies the success\"*\n",
        "\n",
        "---"
      ]
    },
    {
      "cell_type": "code",
      "metadata": {
        "id": "kVm1kGHHY_Yp",
        "colab_type": "code",
        "colab": {
          "base_uri": "https://localhost:8080/",
          "height": 268
        },
        "outputId": "7e01cba9-b51d-4399-caed-4a6d07d362f4"
      },
      "source": [
        "!pip install geopandas"
      ],
      "execution_count": null,
      "outputs": [
        {
          "output_type": "stream",
          "text": [
            "Requirement already satisfied: geopandas in /usr/local/lib/python3.6/dist-packages (0.8.1)\n",
            "Requirement already satisfied: fiona in /usr/local/lib/python3.6/dist-packages (from geopandas) (1.8.17)\n",
            "Requirement already satisfied: pyproj>=2.2.0 in /usr/local/lib/python3.6/dist-packages (from geopandas) (2.6.1.post1)\n",
            "Requirement already satisfied: pandas>=0.23.0 in /usr/local/lib/python3.6/dist-packages (from geopandas) (1.0.5)\n",
            "Requirement already satisfied: shapely in /usr/local/lib/python3.6/dist-packages (from geopandas) (1.7.1)\n",
            "Requirement already satisfied: cligj>=0.5 in /usr/local/lib/python3.6/dist-packages (from fiona->geopandas) (0.5.0)\n",
            "Requirement already satisfied: attrs>=17 in /usr/local/lib/python3.6/dist-packages (from fiona->geopandas) (20.2.0)\n",
            "Requirement already satisfied: click<8,>=4.0 in /usr/local/lib/python3.6/dist-packages (from fiona->geopandas) (7.1.2)\n",
            "Requirement already satisfied: munch in /usr/local/lib/python3.6/dist-packages (from fiona->geopandas) (2.5.0)\n",
            "Requirement already satisfied: click-plugins>=1.0 in /usr/local/lib/python3.6/dist-packages (from fiona->geopandas) (1.1.1)\n",
            "Requirement already satisfied: six>=1.7 in /usr/local/lib/python3.6/dist-packages (from fiona->geopandas) (1.15.0)\n",
            "Requirement already satisfied: pytz>=2017.2 in /usr/local/lib/python3.6/dist-packages (from pandas>=0.23.0->geopandas) (2018.9)\n",
            "Requirement already satisfied: python-dateutil>=2.6.1 in /usr/local/lib/python3.6/dist-packages (from pandas>=0.23.0->geopandas) (2.8.1)\n",
            "Requirement already satisfied: numpy>=1.13.3 in /usr/local/lib/python3.6/dist-packages (from pandas>=0.23.0->geopandas) (1.18.5)\n"
          ],
          "name": "stdout"
        }
      ]
    },
    {
      "cell_type": "code",
      "metadata": {
        "id": "MEu0WwUjV3bn",
        "colab_type": "code",
        "colab": {}
      },
      "source": [
        "import os\n",
        "import numpy as np\n",
        "import geopandas as gpd\n",
        "import shapely.geometry as shp\n",
        "import matplotlib.pyplot as plt\n",
        "import sklearn.metrics as skm\n"
      ],
      "execution_count": 36,
      "outputs": []
    },
    {
      "cell_type": "code",
      "metadata": {
        "id": "tgNSLvfSYlUK",
        "colab_type": "code",
        "colab": {
          "base_uri": "https://localhost:8080/",
          "height": 214
        },
        "outputId": "d57b38e4-19fa-4035-d7f0-dc42beb77beb"
      },
      "source": [
        "!wget https://raw.githubusercontent.com/napo/geospatial_bigdive/master/data/libraries_turin.geojson"
      ],
      "execution_count": null,
      "outputs": [
        {
          "output_type": "stream",
          "text": [
            "--2020-09-16 10:20:42--  https://raw.githubusercontent.com/napo/geospatial_bigdive/master/data/libraries_turin.geojson\n",
            "Resolving raw.githubusercontent.com (raw.githubusercontent.com)... 151.101.0.133, 151.101.64.133, 151.101.128.133, ...\n",
            "Connecting to raw.githubusercontent.com (raw.githubusercontent.com)|151.101.0.133|:443... connected.\n",
            "HTTP request sent, awaiting response... 200 OK\n",
            "Length: 113671 (111K) [text/plain]\n",
            "Saving to: ‘libraries_turin.geojson.4’\n",
            "\n",
            "libraries_turin.geo 100%[===================>] 111.01K  --.-KB/s    in 0.04s   \n",
            "\n",
            "2020-09-16 10:20:42 (2.89 MB/s) - ‘libraries_turin.geojson.4’ saved [113671/113671]\n",
            "\n"
          ],
          "name": "stdout"
        }
      ]
    },
    {
      "cell_type": "markdown",
      "metadata": {
        "id": "TzNbOX25V3b1",
        "colab_type": "text"
      },
      "source": [
        "# Point Clustering"
      ]
    },
    {
      "cell_type": "code",
      "metadata": {
        "id": "AtHKI4pHV3b5",
        "colab_type": "code",
        "colab": {}
      },
      "source": [
        "libraries_turin = gpd.read_file(\"libraries_turin.geojson\")\n",
        "libraries_turin = libraries_turin.to_crs(epsg=32632)"
      ],
      "execution_count": 37,
      "outputs": []
    },
    {
      "cell_type": "code",
      "metadata": {
        "id": "DG7l1dv7V3cC",
        "colab_type": "code",
        "colab": {
          "base_uri": "https://localhost:8080/",
          "height": 294
        },
        "outputId": "20c6b726-1594-4f98-be81-a221c7e61b6b"
      },
      "source": [
        "libraries_turin.plot('cap',cmap='plasma')"
      ],
      "execution_count": 38,
      "outputs": [
        {
          "output_type": "execute_result",
          "data": {
            "text/plain": [
              "<matplotlib.axes._subplots.AxesSubplot at 0x7f9bd0f024e0>"
            ]
          },
          "metadata": {
            "tags": []
          },
          "execution_count": 38
        },
        {
          "output_type": "display_data",
          "data": {
            "image/png": "[encoded data removed]",
            "text/plain": [
              "<Figure size 432x288 with 1 Axes>"
            ]
          },
          "metadata": {
            "tags": [],
            "needs_background": "light"
          }
        }
      ]
    },
    {
      "cell_type": "code",
      "metadata": {
        "id": "C1_HRQXiV3cO",
        "colab_type": "code",
        "colab": {}
      },
      "source": [
        "import sklearn.cluster as skc"
      ],
      "execution_count": 39,
      "outputs": []
    },
    {
      "cell_type": "code",
      "metadata": {
        "id": "evBHlY8UV3cW",
        "colab_type": "code",
        "colab": {}
      },
      "source": [
        "coordinates = libraries_turin['geometry'].apply(lambda p: np.hstack(p.xy)).values\n",
        "coordinates = np.vstack(coordinates)"
      ],
      "execution_count": null,
      "outputs": []
    },
    {
      "cell_type": "markdown",
      "metadata": {
        "id": "4iTTv6zuV3cj",
        "colab_type": "text"
      },
      "source": [
        "Like other scikit estimators, they are split into an initialization/configuration call and a fit call.\n",
        "\n",
        "Here, we'll use a local density-based scan clusterer, called DBSCAN. It works by fitting clusters of nearby points using the eps distance, which is the furthest distance at which points are considered to be in each other's clusters."
      ]
    },
    {
      "cell_type": "code",
      "metadata": {
        "id": "nhn325EDV3cl",
        "colab_type": "code",
        "colab": {}
      },
      "source": [
        "clusterer = skc.DBSCAN(eps=1000).fit(coordinates)"
      ],
      "execution_count": 40,
      "outputs": []
    },
    {
      "cell_type": "code",
      "metadata": {
        "id": "BC4Xj9oLV3ct",
        "colab_type": "code",
        "colab": {
          "base_uri": "https://localhost:8080/",
          "height": 1000
        },
        "outputId": "a76f75b1-fdd1-41ed-dcbc-cbc16f1784a8"
      },
      "source": [
        "clusterer.components_"
      ],
      "execution_count": 41,
      "outputs": [
        {
          "output_type": "execute_result",
          "data": {
            "text/plain": [
              "array([[ 393686.21266102, 4987739.05695614],\n",
              "       [ 398006.13582993, 4991047.62874006],\n",
              "       [ 395600.71783648, 4992115.00502201],\n",
              "       [ 396496.66746751, 4990776.1488995 ],\n",
              "       [ 395687.78371629, 4991938.45993556],\n",
              "       [ 395826.38018856, 4992252.14571934],\n",
              "       [ 395231.86776573, 4991026.30287137],\n",
              "       [ 392852.68398115, 4992239.39093971],\n",
              "       [ 396579.9582435 , 4991755.95514291],\n",
              "       [ 397446.123465  , 4990409.70795623],\n",
              "       [ 396654.59095015, 4991550.9979057 ],\n",
              "       [ 397446.123465  , 4990409.70795623],\n",
              "       [ 395794.99853451, 4992350.3545602 ],\n",
              "       [ 396547.4836093 , 4991242.81754963],\n",
              "       [ 396915.24747663, 4991182.37469399],\n",
              "       [ 396536.88599801, 4991401.43272043],\n",
              "       [ 394493.49808673, 4991556.43669894],\n",
              "       [ 397182.15697849, 4991461.74432875],\n",
              "       [ 396678.83978574, 4991681.35893972],\n",
              "       [ 396869.4827375 , 4991372.64894134],\n",
              "       [ 396446.05794338, 4990890.42154212],\n",
              "       [ 396404.31413481, 4991352.42865466],\n",
              "       [ 396863.21122342, 4991306.76876053],\n",
              "       [ 396438.17608447, 4991890.62276105],\n",
              "       [ 392803.73482336, 4991369.19932552],\n",
              "       [ 396465.60262229, 4991434.0039897 ],\n",
              "       [ 394563.33910737, 4988202.85982692],\n",
              "       [ 395416.00125735, 4988003.95062091],\n",
              "       [ 396575.04656965, 4991074.67088532],\n",
              "       [ 395214.24413648, 4990975.07812952],\n",
              "       [ 395516.20206966, 4992011.39945768],\n",
              "       [ 397644.90281642, 4991990.53313803],\n",
              "       [ 396337.94172029, 4989821.85918624],\n",
              "       [ 395256.77892733, 4990790.36630735],\n",
              "       [ 397058.00412618, 4991009.91184207],\n",
              "       [ 396350.05088481, 4990466.06779629],\n",
              "       [ 395645.72241833, 4992264.2041528 ],\n",
              "       [ 393891.65678265, 4988131.69614645],\n",
              "       [ 396655.57092967, 4991552.32927325],\n",
              "       [ 394597.89366868, 4989965.57432885],\n",
              "       [ 395672.77791664, 4992237.72263465],\n",
              "       [ 394734.11248161, 4991658.19656529],\n",
              "       [ 393740.87903748, 4987947.26048586],\n",
              "       [ 396785.2384284 , 4991457.32955286],\n",
              "       [ 395467.79111415, 4991861.92811084],\n",
              "       [ 396640.94178412, 4991633.7577666 ],\n",
              "       [ 395542.11105192, 4990801.66060734],\n",
              "       [ 393719.3013563 , 4991329.83376031],\n",
              "       [ 395793.62418136, 4987515.07321384],\n",
              "       [ 394239.97950703, 4992182.18704746],\n",
              "       [ 395890.34748732, 4990903.11191255],\n",
              "       [ 396330.27017027, 4991501.79809097],\n",
              "       [ 395653.26676506, 4992259.70514409],\n",
              "       [ 396103.59899679, 4988749.34377508],\n",
              "       [ 393992.5575365 , 4987181.91980819],\n",
              "       [ 396003.39764496, 4991381.5406005 ],\n",
              "       [ 397589.83239338, 4991096.03457842],\n",
              "       [ 396100.13933083, 4989472.72126752],\n",
              "       [ 396122.00434114, 4989427.26215866],\n",
              "       [ 396130.25672586, 4989529.10049346],\n",
              "       [ 396120.59732041, 4989424.54047965],\n",
              "       [ 397319.27533111, 4991192.02826518],\n",
              "       [ 396719.46702346, 4991020.76924135],\n",
              "       [ 396603.83651352, 4990068.67677245],\n",
              "       [ 397181.42194045, 4991324.31726194],\n",
              "       [ 397191.53954566, 4991336.15225444],\n",
              "       [ 397191.53954566, 4991336.15225444],\n",
              "       [ 396529.21204613, 4991312.92969857],\n",
              "       [ 395581.03980382, 4989332.43937819],\n",
              "       [ 397319.27533111, 4991192.02826518],\n",
              "       [ 395581.03980382, 4989332.43937819],\n",
              "       [ 395581.03980382, 4989332.43937819],\n",
              "       [ 396893.89432728, 4991473.92650261],\n",
              "       [ 397734.85034524, 4991372.24257096],\n",
              "       [ 397319.27533111, 4991192.02826518],\n",
              "       [ 396200.98443607, 4989622.22059826],\n",
              "       [ 397191.53954566, 4991336.15225444],\n",
              "       [ 395972.51857362, 4988630.66298086],\n",
              "       [ 395048.11166138, 4990813.65716499],\n",
              "       [ 396529.21204613, 4991312.92969857],\n",
              "       [ 394693.1786882 , 4990752.83145005],\n",
              "       [ 396440.88186771, 4989767.00470354],\n",
              "       [ 394693.1786882 , 4990752.83145005],\n",
              "       [ 396440.88186771, 4989767.00470354],\n",
              "       [ 394693.1786882 , 4990752.83145005],\n",
              "       [ 394693.1786882 , 4990752.83145005],\n",
              "       [ 394693.1786882 , 4990752.83145005],\n",
              "       [ 394693.1786882 , 4990752.83145005],\n",
              "       [ 394693.1786882 , 4990752.83145005],\n",
              "       [ 394693.1786882 , 4990752.83145005],\n",
              "       [ 394693.1786882 , 4990752.83145005],\n",
              "       [ 394693.1786882 , 4990752.83145005],\n",
              "       [ 394693.1786882 , 4990752.83145005],\n",
              "       [ 394693.1786882 , 4990752.83145005],\n",
              "       [ 396440.88186771, 4989767.00470354],\n",
              "       [ 394693.1786882 , 4990752.83145005],\n",
              "       [ 396482.53012919, 4991898.01331931],\n",
              "       [ 395495.98248751, 4987473.57391303],\n",
              "       [ 396441.69975945, 4991388.66748912],\n",
              "       [ 396719.90181719, 4991020.87331034],\n",
              "       [ 396766.4906643 , 4990973.39318317],\n",
              "       [ 395999.33826724, 4991861.11563008],\n",
              "       [ 396013.52831709, 4991842.89387772],\n",
              "       [ 394841.06090859, 4989792.83462849],\n",
              "       [ 395669.98080966, 4992247.45002616],\n",
              "       [ 395833.26073237, 4992740.59919017],\n",
              "       [ 395495.98248751, 4987473.57391303],\n",
              "       [ 395254.89730521, 4986773.04144043],\n",
              "       [ 395918.67328739, 4991260.26091013],\n",
              "       [ 396043.941675  , 4988870.05676279],\n",
              "       [ 395645.73888864, 4992264.24833035],\n",
              "       [ 394048.83488141, 4987087.13399429],\n",
              "       [ 396054.95372395, 4992200.47428118],\n",
              "       [ 394027.84660445, 4990292.03981794],\n",
              "       [ 396495.03169036, 4991468.12786244],\n",
              "       [ 396482.53012919, 4991898.01331931],\n",
              "       [ 396199.07286235, 4989633.97465925],\n",
              "       [ 394693.1786882 , 4990752.83145005],\n",
              "       [ 393641.95769786, 4986932.52757974],\n",
              "       [ 395681.68759749, 4992278.64924769],\n",
              "       [ 393845.82169325, 4988229.74361415],\n",
              "       [ 396468.40138945, 4991947.20160248],\n",
              "       [ 396950.74129352, 4990946.00878078],\n",
              "       [ 395756.172773  , 4988384.84827036],\n",
              "       [ 393686.21266102, 4987739.05695614],\n",
              "       [ 396926.3735749 , 4991079.16635258],\n",
              "       [ 394955.59114417, 4991453.30382661],\n",
              "       [ 396370.43633796, 4990293.43688099],\n",
              "       [ 395994.53265843, 4992090.93130832],\n",
              "       [ 397833.52521724, 4989764.50644922],\n",
              "       [ 397191.53954566, 4991336.15225444],\n",
              "       [ 396519.82806931, 4990851.06503219],\n",
              "       [ 394762.60471322, 4992825.24310944],\n",
              "       [ 393788.4954706 , 4991713.83110432],\n",
              "       [ 394762.60471322, 4992825.24310944],\n",
              "       [ 395283.72368111, 4989841.72739395],\n",
              "       [ 395756.172773  , 4988384.84827036],\n",
              "       [ 395826.38018856, 4992252.14571934],\n",
              "       [ 396156.79315647, 4991729.59376336],\n",
              "       [ 395412.49954078, 4989251.79728875],\n",
              "       [ 393150.09888768, 4990741.79801617],\n",
              "       [ 398427.703018  , 4990555.70462883],\n",
              "       [ 393889.92929038, 4991300.29835019],\n",
              "       [ 396161.06559897, 4989944.10145904],\n",
              "       [ 396849.35950655, 4990925.92594675],\n",
              "       [ 394696.67900742, 4993306.37957581],\n",
              "       [ 398209.94779831, 4990040.0419535 ],\n",
              "       [ 397028.64553174, 4991543.69544677],\n",
              "       [ 396284.61631281, 4990041.02188   ],\n",
              "       [ 397369.06990399, 4990979.20269375],\n",
              "       [ 395681.68759749, 4992278.64924769],\n",
              "       [ 397791.11633928, 4992066.84492765],\n",
              "       [ 396391.65514885, 4992837.15072391],\n",
              "       [ 393223.05462528, 4991242.16954723],\n",
              "       [ 396799.00810383, 4991518.43236911],\n",
              "       [ 395961.4567204 , 4991840.38573213],\n",
              "       [ 395242.24895678, 4988243.21748792],\n",
              "       [ 397775.32323241, 4990711.19016953],\n",
              "       [ 397152.96050313, 4990015.81058439],\n",
              "       [ 398375.11815105, 4989994.57035542],\n",
              "       [ 394249.74050713, 4992199.72693934],\n",
              "       [ 394024.90421876, 4992833.72294903],\n",
              "       [ 397350.31937587, 4991128.69104069],\n",
              "       [ 397817.14908256, 4990617.02530772]])"
            ]
          },
          "metadata": {
            "tags": []
          },
          "execution_count": 41
        }
      ]
    },
    {
      "cell_type": "code",
      "metadata": {
        "id": "i9LW54ELV3c1",
        "colab_type": "code",
        "colab": {
          "base_uri": "https://localhost:8080/",
          "height": 250
        },
        "outputId": "9dd9ecdf-f089-4e71-9a3c-734395b63e5a"
      },
      "source": [
        "clusterer.core_sample_indices_"
      ],
      "execution_count": 42,
      "outputs": [
        {
          "output_type": "execute_result",
          "data": {
            "text/plain": [
              "array([  0,   1,   2,   3,   4,   5,   6,   7,   9,  10,  11,  12,  15,\n",
              "        16,  17,  18,  19,  21,  22,  23,  24,  25,  26,  27,  28,  29,\n",
              "        30,  31,  32,  34,  36,  39,  40,  41,  42,  43,  44,  45,  46,\n",
              "        47,  48,  49,  50,  51,  52,  53,  54,  55,  56,  58,  59,  60,\n",
              "        61,  62,  63,  64,  65,  67,  68,  69,  70,  71,  72,  73,  74,\n",
              "        75,  76,  78,  79,  80,  81,  82,  83,  84,  85,  86,  87,  88,\n",
              "        89,  90,  91,  92,  93,  94,  95,  96,  97,  98,  99, 100, 101,\n",
              "       102, 103, 104, 105, 106, 107, 108, 109, 110, 111, 112, 113, 114,\n",
              "       115, 117, 121, 123, 124, 125, 126, 127, 128, 129, 130, 131, 132,\n",
              "       133, 135, 138, 139, 142, 143, 144, 145, 146, 147, 148, 149, 151,\n",
              "       152, 153, 154, 155, 158, 159, 162, 164, 165, 166, 167, 168, 171,\n",
              "       172, 174, 175, 176, 177, 178, 179, 180, 181, 182, 184, 185, 186,\n",
              "       187, 188, 189, 190, 191, 192, 194, 195])"
            ]
          },
          "metadata": {
            "tags": []
          },
          "execution_count": 42
        }
      ]
    },
    {
      "cell_type": "code",
      "metadata": {
        "id": "eTcyDhKcV3c9",
        "colab_type": "code",
        "colab": {
          "base_uri": "https://localhost:8080/",
          "height": 232
        },
        "outputId": "511a7d5e-462e-47bc-fcda-93fa07166d42"
      },
      "source": [
        "clusterer.labels_"
      ],
      "execution_count": 43,
      "outputs": [
        {
          "output_type": "execute_result",
          "data": {
            "text/plain": [
              "array([ 0,  0,  0,  0,  0,  0,  0,  0,  0,  0,  0,  0,  0, -1, -1,  0,  0,\n",
              "        0,  0,  0, -1,  0,  0,  0,  0,  0,  0,  0,  0,  0,  0,  0,  0, -1,\n",
              "        0, -1,  0, -1, -1,  0,  0,  0,  0,  0,  0,  0,  0,  0,  0,  0,  0,\n",
              "        0,  0,  0,  0,  0,  0,  0,  0,  0,  0,  0,  0,  0,  0,  0, -1,  0,\n",
              "        0,  0,  0,  0,  0,  0,  0,  0,  0,  0,  0,  0,  0,  0,  0,  0,  0,\n",
              "        0,  0,  0,  0,  0,  0,  0,  0,  0,  0,  0,  0,  0,  0,  0,  0,  0,\n",
              "        0,  0,  0,  0,  0,  0,  0,  0,  0,  0,  0,  0,  0,  0, -1,  0, -1,\n",
              "        0, -1,  0, -1,  0,  0,  0,  0,  0,  0,  0,  0,  0,  0,  0, -1,  0,\n",
              "       -1, -1,  0,  0,  0, -1,  0,  0,  0,  0,  0,  0,  0,  0, -1,  0,  0,\n",
              "        0,  0,  0, -1, -1,  0,  0,  0,  0,  0, -1,  0,  0,  0,  0,  0, -1,\n",
              "       -1,  0,  0, -1,  0,  0,  0,  0,  0,  0,  0,  0,  0,  0,  0,  0,  0,\n",
              "        0,  0,  0,  0,  0,  0,  0,  0,  0])"
            ]
          },
          "metadata": {
            "tags": []
          },
          "execution_count": 43
        }
      ]
    },
    {
      "cell_type": "code",
      "metadata": {
        "id": "Js4u-YGCV3dF",
        "colab_type": "code",
        "colab": {}
      },
      "source": [
        "nclusters = clusterer.p"
      ],
      "execution_count": 44,
      "outputs": []
    },
    {
      "cell_type": "code",
      "metadata": {
        "id": "8giTNTfFV3dO",
        "colab_type": "code",
        "colab": {
          "base_uri": "https://localhost:8080/",
          "height": 294
        },
        "outputId": "240b0c73-2b43-47e5-a94f-74073fbfee65"
      },
      "source": [
        "libraries_turin.assign(labels=clusterer.labels_).plot('labels', k=nclusters, cmap='plasma')"
      ],
      "execution_count": 45,
      "outputs": [
        {
          "output_type": "execute_result",
          "data": {
            "text/plain": [
              "<matplotlib.axes._subplots.AxesSubplot at 0x7f9bcc0bb048>"
            ]
          },
          "metadata": {
            "tags": []
          },
          "execution_count": 45
        },
        {
          "output_type": "display_data",
          "data": {
            "image/png": "[encoded data removed]",
            "text/plain": [
              "<Figure size 432x288 with 1 Axes>"
            ]
          },
          "metadata": {
            "tags": [],
            "needs_background": "light"
          }
        }
      ]
    },
    {
      "cell_type": "code",
      "metadata": {
        "id": "Fth3dA_vV3eD",
        "colab_type": "code",
        "colab": {}
      },
      "source": [
        ""
      ],
      "execution_count": null,
      "outputs": []
    }
  ]
}
